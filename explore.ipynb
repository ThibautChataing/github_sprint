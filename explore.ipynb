{
 "cells": [
  {
   "cell_type": "code",
   "execution_count": 1,
   "id": "3cd25e0e-305f-4033-acac-2abbd7899a92",
   "metadata": {},
   "outputs": [],
   "source": [
    "# Explore success prediction for github repository"
   ]
  },
  {
   "cell_type": "code",
   "execution_count": 2,
   "id": "d2c0d958-4027-4191-91ff-fffef673d28a",
   "metadata": {},
   "outputs": [
    {
     "ename": "ModuleNotFoundError",
     "evalue": "No module named 'sklearn'",
     "output_type": "error",
     "traceback": [
      "\u001b[0;31m---------------------------------------------------------------------------\u001b[0m",
      "\u001b[0;31mModuleNotFoundError\u001b[0m                       Traceback (most recent call last)",
      "Input \u001b[0;32mIn [2]\u001b[0m, in \u001b[0;36m<module>\u001b[0;34m\u001b[0m\n\u001b[0;32m----> 1\u001b[0m \u001b[38;5;28;01mimport\u001b[39;00m \u001b[38;5;21;01msklearn\u001b[39;00m \u001b[38;5;28;01mas\u001b[39;00m \u001b[38;5;21;01msk\u001b[39;00m\n",
      "\u001b[0;31mModuleNotFoundError\u001b[0m: No module named 'sklearn'"
     ]
    }
   ],
   "source": [
    "import sklearn as sk"
   ]
  },
  {
   "cell_type": "code",
   "execution_count": 4,
   "id": "2b5468de-55d3-4c5f-a12b-b66ecd05a7ca",
   "metadata": {},
   "outputs": [],
   "source": [
    "import os\n",
    "import pandas as pd"
   ]
  },
  {
   "cell_type": "code",
   "execution_count": 2,
   "id": "6439a250-db31-47e2-ace9-ff06a6d94807",
   "metadata": {},
   "outputs": [],
   "source": [
    "data = \"./data/data/\""
   ]
  },
  {
   "cell_type": "code",
   "execution_count": 13,
   "id": "a1d9063c-689a-4771-a68b-da99ad05881a",
   "metadata": {},
   "outputs": [],
   "source": [
    "file_names = os.listdir(data)\n",
    "df = pd.DataFrame(file_names, columns=['name'])"
   ]
  },
  {
   "cell_type": "code",
   "execution_count": 14,
   "id": "8c898b2f-50ec-4fc6-abb8-f8d64e260dcb",
   "metadata": {},
   "outputs": [
    {
     "data": {
      "text/html": [
       "<div>\n",
       "<style scoped>\n",
       "    .dataframe tbody tr th:only-of-type {\n",
       "        vertical-align: middle;\n",
       "    }\n",
       "\n",
       "    .dataframe tbody tr th {\n",
       "        vertical-align: top;\n",
       "    }\n",
       "\n",
       "    .dataframe thead th {\n",
       "        text-align: right;\n",
       "    }\n",
       "</style>\n",
       "<table border=\"1\" class=\"dataframe\">\n",
       "  <thead>\n",
       "    <tr style=\"text-align: right;\">\n",
       "      <th></th>\n",
       "      <th>name</th>\n",
       "    </tr>\n",
       "  </thead>\n",
       "  <tbody>\n",
       "    <tr>\n",
       "      <th>0</th>\n",
       "      <td>vaguileradiaz_tinfoleak_commits.json</td>\n",
       "    </tr>\n",
       "    <tr>\n",
       "      <th>1</th>\n",
       "      <td>lateralusd_lateralus_releases.json</td>\n",
       "    </tr>\n",
       "    <tr>\n",
       "      <th>2</th>\n",
       "      <td>devanshbatham_FavFreak_commits.json</td>\n",
       "    </tr>\n",
       "    <tr>\n",
       "      <th>3</th>\n",
       "      <td>yassineaboukir_Asnlookup_description.json</td>\n",
       "    </tr>\n",
       "    <tr>\n",
       "      <th>4</th>\n",
       "      <td>troglobit_nemesis_releases.json</td>\n",
       "    </tr>\n",
       "  </tbody>\n",
       "</table>\n",
       "</div>"
      ],
      "text/plain": [
       "                                        name\n",
       "0       vaguileradiaz_tinfoleak_commits.json\n",
       "1         lateralusd_lateralus_releases.json\n",
       "2        devanshbatham_FavFreak_commits.json\n",
       "3  yassineaboukir_Asnlookup_description.json\n",
       "4            troglobit_nemesis_releases.json"
      ]
     },
     "execution_count": 14,
     "metadata": {},
     "output_type": "execute_result"
    }
   ],
   "source": [
    "df.head()"
   ]
  },
  {
   "cell_type": "code",
   "execution_count": 34,
   "id": "b5f27cf6-188a-4856-95e1-59f38388c604",
   "metadata": {},
   "outputs": [],
   "source": [
    "df['type'] = df.name.str.extract('.*_([A-z]+).json')"
   ]
  },
  {
   "cell_type": "code",
   "execution_count": 36,
   "id": "8165824b-caa2-461d-8280-d6fbec61d12a",
   "metadata": {},
   "outputs": [
    {
     "data": {
      "text/plain": [
       "array(['commits', 'releases', 'description'], dtype=object)"
      ]
     },
     "execution_count": 36,
     "metadata": {},
     "output_type": "execute_result"
    }
   ],
   "source": [
    "df.type.unique()"
   ]
  },
  {
   "cell_type": "code",
   "execution_count": 37,
   "id": "b5fdb76d-9cf6-426e-a013-97498578c90d",
   "metadata": {},
   "outputs": [
    {
     "data": {
      "text/html": [
       "<div>\n",
       "<style scoped>\n",
       "    .dataframe tbody tr th:only-of-type {\n",
       "        vertical-align: middle;\n",
       "    }\n",
       "\n",
       "    .dataframe tbody tr th {\n",
       "        vertical-align: top;\n",
       "    }\n",
       "\n",
       "    .dataframe thead th {\n",
       "        text-align: right;\n",
       "    }\n",
       "</style>\n",
       "<table border=\"1\" class=\"dataframe\">\n",
       "  <thead>\n",
       "    <tr style=\"text-align: right;\">\n",
       "      <th></th>\n",
       "      <th>name</th>\n",
       "      <th>type</th>\n",
       "    </tr>\n",
       "  </thead>\n",
       "  <tbody>\n",
       "    <tr>\n",
       "      <th>0</th>\n",
       "      <td>vaguileradiaz_tinfoleak_commits.json</td>\n",
       "      <td>commits</td>\n",
       "    </tr>\n",
       "    <tr>\n",
       "      <th>1</th>\n",
       "      <td>lateralusd_lateralus_releases.json</td>\n",
       "      <td>releases</td>\n",
       "    </tr>\n",
       "    <tr>\n",
       "      <th>2</th>\n",
       "      <td>devanshbatham_FavFreak_commits.json</td>\n",
       "      <td>commits</td>\n",
       "    </tr>\n",
       "    <tr>\n",
       "      <th>3</th>\n",
       "      <td>yassineaboukir_Asnlookup_description.json</td>\n",
       "      <td>description</td>\n",
       "    </tr>\n",
       "    <tr>\n",
       "      <th>4</th>\n",
       "      <td>troglobit_nemesis_releases.json</td>\n",
       "      <td>releases</td>\n",
       "    </tr>\n",
       "  </tbody>\n",
       "</table>\n",
       "</div>"
      ],
      "text/plain": [
       "                                        name         type\n",
       "0       vaguileradiaz_tinfoleak_commits.json      commits\n",
       "1         lateralusd_lateralus_releases.json     releases\n",
       "2        devanshbatham_FavFreak_commits.json      commits\n",
       "3  yassineaboukir_Asnlookup_description.json  description\n",
       "4            troglobit_nemesis_releases.json     releases"
      ]
     },
     "execution_count": 37,
     "metadata": {},
     "output_type": "execute_result"
    }
   ],
   "source": [
    "df.head()"
   ]
  },
  {
   "cell_type": "code",
   "execution_count": null,
   "id": "97a9a001-9d6c-4522-b422-f95152ad0c26",
   "metadata": {},
   "outputs": [],
   "source": []
  }
 ],
 "metadata": {
  "kernelspec": {
   "display_name": "Python 3 (ipykernel)",
   "language": "python",
   "name": "python3"
  },
  "language_info": {
   "codemirror_mode": {
    "name": "ipython",
    "version": 3
   },
   "file_extension": ".py",
   "mimetype": "text/x-python",
   "name": "python",
   "nbconvert_exporter": "python",
   "pygments_lexer": "ipython3",
   "version": "3.9.0"
  }
 },
 "nbformat": 4,
 "nbformat_minor": 5
}
